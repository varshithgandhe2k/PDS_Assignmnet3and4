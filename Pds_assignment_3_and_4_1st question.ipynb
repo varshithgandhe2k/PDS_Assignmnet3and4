{
 "cells": [
  {
   "cell_type": "code",
   "execution_count": 4,
   "metadata": {},
   "outputs": [
    {
     "name": "stdout",
     "output_type": "stream",
     "text": [
      "Requirement already satisfied: requests in c:\\users\\varsh\\anaconda3\\lib\\site-packages (2.24.0)\n",
      "Requirement already satisfied: dash in c:\\users\\varsh\\anaconda3\\lib\\site-packages (2.16.1)\n",
      "Requirement already satisfied: certifi>=2017.4.17 in c:\\users\\varsh\\anaconda3\\lib\\site-packages (from requests) (2020.6.20)\n",
      "Requirement already satisfied: idna<3,>=2.5 in c:\\users\\varsh\\anaconda3\\lib\\site-packages (from requests) (2.10)\n",
      "Requirement already satisfied: chardet<4,>=3.0.2 in c:\\users\\varsh\\anaconda3\\lib\\site-packages (from requests) (3.0.4)\n",
      "Requirement already satisfied: urllib3!=1.25.0,!=1.25.1,<1.26,>=1.21.1 in c:\\users\\varsh\\anaconda3\\lib\\site-packages (from requests) (1.25.11)\n",
      "Note: you may need to restart the kernel to use updated packages.\n",
      "Requirement already satisfied: typing-extensions>=4.1.1 in c:\\users\\varsh\\anaconda3\\lib\\site-packages (from dash) (4.11.0)\n",
      "Requirement already satisfied: nest-asyncio in c:\\users\\varsh\\anaconda3\\lib\\site-packages (from dash) (1.4.2)\n",
      "Requirement already satisfied: plotly>=5.0.0 in c:\\users\\varsh\\anaconda3\\lib\\site-packages (from dash) (5.20.0)\n",
      "Requirement already satisfied: dash-core-components==2.0.0 in c:\\users\\varsh\\anaconda3\\lib\\site-packages (from dash) (2.0.0)\n",
      "Requirement already satisfied: Werkzeug<3.1 in c:\\users\\varsh\\anaconda3\\lib\\site-packages (from dash) (1.0.1)\n",
      "Requirement already satisfied: retrying in c:\\users\\varsh\\anaconda3\\lib\\site-packages (from dash) (1.3.4)\n",
      "Requirement already satisfied: Flask<3.1,>=1.0.4 in c:\\users\\varsh\\anaconda3\\lib\\site-packages (from dash) (1.1.2)\n",
      "Requirement already satisfied: importlib-metadata in c:\\users\\varsh\\anaconda3\\lib\\site-packages (from dash) (2.0.0)\n",
      "Requirement already satisfied: dash-table==5.0.0 in c:\\users\\varsh\\anaconda3\\lib\\site-packages (from dash) (5.0.0)\n",
      "Requirement already satisfied: dash-html-components==2.0.0 in c:\\users\\varsh\\anaconda3\\lib\\site-packages (from dash) (2.0.0)\n",
      "Requirement already satisfied: setuptools in c:\\users\\varsh\\anaconda3\\lib\\site-packages (from dash) (50.3.1.post20201107)\n",
      "Requirement already satisfied: packaging in c:\\users\\varsh\\anaconda3\\lib\\site-packages (from plotly>=5.0.0->dash) (20.4)\n",
      "Requirement already satisfied: tenacity>=6.2.0 in c:\\users\\varsh\\anaconda3\\lib\\site-packages (from plotly>=5.0.0->dash) (8.2.3)\n",
      "Requirement already satisfied: six>=1.7.0 in c:\\users\\varsh\\anaconda3\\lib\\site-packages (from retrying->dash) (1.15.0)\n",
      "Requirement already satisfied: itsdangerous>=0.24 in c:\\users\\varsh\\anaconda3\\lib\\site-packages (from Flask<3.1,>=1.0.4->dash) (1.1.0)\n",
      "Requirement already satisfied: click>=5.1 in c:\\users\\varsh\\anaconda3\\lib\\site-packages (from Flask<3.1,>=1.0.4->dash) (8.1.7)\n",
      "Requirement already satisfied: Jinja2>=2.10.1 in c:\\users\\varsh\\anaconda3\\lib\\site-packages (from Flask<3.1,>=1.0.4->dash) (2.11.2)\n",
      "Requirement already satisfied: zipp>=0.5 in c:\\users\\varsh\\anaconda3\\lib\\site-packages (from importlib-metadata->dash) (3.4.0)\n",
      "Requirement already satisfied: pyparsing>=2.0.2 in c:\\users\\varsh\\anaconda3\\lib\\site-packages (from packaging->plotly>=5.0.0->dash) (2.4.7)\n",
      "Requirement already satisfied: colorama; platform_system == \"Windows\" in c:\\users\\varsh\\anaconda3\\lib\\site-packages (from click>=5.1->Flask<3.1,>=1.0.4->dash) (0.4.4)\n",
      "Requirement already satisfied: MarkupSafe>=0.23 in c:\\users\\varsh\\anaconda3\\lib\\site-packages (from Jinja2>=2.10.1->Flask<3.1,>=1.0.4->dash) (1.1.1)\n"
     ]
    }
   ],
   "source": [
    "pip install requests dash"
   ]
  },
  {
   "cell_type": "code",
   "execution_count": 5,
   "metadata": {},
   "outputs": [],
   "source": [
    "import requests\n",
    "import json\n",
    "import tkinter as tk"
   ]
  },
  {
   "cell_type": "code",
   "execution_count": 6,
   "metadata": {},
   "outputs": [],
   "source": [
    "def fetch_weather_data(api_key, city):\n",
    "    url = f\"http://api.openweathermap.org/data/2.5/weather?q={city}&appid={api_key}&units=metric\"\n",
    "    response = requests.get(url)\n",
    "    data = response.json()\n",
    "    return data\n",
    "\n",
    "def display_dashboard(weather_data):\n",
    "    root = tk.Tk()\n",
    "    root.title(\"Weather Dashboard\")\n",
    "\n",
    "    city_label = tk.Label(root, text=f\"City: {weather_data['name']}\")\n",
    "    city_label.pack()\n",
    "\n",
    "    temp_label = tk.Label(root, text=f\"Temperature: {weather_data['main']['temp']} °C\")\n",
    "    temp_label.pack()\n",
    "\n",
    "    humidity_label = tk.Label(root, text=f\"Humidity: {weather_data['main']['humidity']} %\")\n",
    "    humidity_label.pack()\n",
    "\n",
    "    weather_label = tk.Label(root, text=f\"Weather: {weather_data['weather'][0]['main']}\")\n",
    "    weather_label.pack()\n",
    "\n",
    "    root.mainloop()\n",
    "\n",
    "def main():\n",
    "    api_key = \"5d6a4febe5049d2d636b74e1b54ccc62\"\n",
    "    city = \"Hyderabad\"  # We can change this to any city you want\n",
    "    weather_data = fetch_weather_data(api_key, city)\n",
    "    display_dashboard(weather_data)\n",
    "\n",
    "if __name__ == \"__main__\":\n",
    "    main()\n"
   ]
  },
  {
   "cell_type": "code",
   "execution_count": null,
   "metadata": {},
   "outputs": [],
   "source": []
  },
  {
   "cell_type": "code",
   "execution_count": null,
   "metadata": {},
   "outputs": [],
   "source": []
  }
 ],
 "metadata": {
  "kernelspec": {
   "display_name": "Python 3",
   "language": "python",
   "name": "python3"
  },
  "language_info": {
   "codemirror_mode": {
    "name": "ipython",
    "version": 3
   },
   "file_extension": ".py",
   "mimetype": "text/x-python",
   "name": "python",
   "nbconvert_exporter": "python",
   "pygments_lexer": "ipython3",
   "version": "3.8.5"
  }
 },
 "nbformat": 4,
 "nbformat_minor": 4
}
